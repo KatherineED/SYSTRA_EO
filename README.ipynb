{
  "nbformat": 4,
  "nbformat_minor": 0,
  "metadata": {
    "colab": {
      "provenance": []
    },
    "kernelspec": {
      "name": "python3",
      "display_name": "Python 3"
    },
    "language_info": {
      "name": "python"
    }
  },
  "cells": [
    {
      "cell_type": "markdown",
      "source": [
        "# Geospatial Data Analysis Using Machine Learning\n",
        "\n",
        "## Overview\n",
        "\n",
        "This repository contains code for analyzing Earth Observation data using various machine learning techniques. It contains code for the creation of a Land Use Land Cover (LULC) model. Also two applied cases for an integrated assessment using the LULC model for change detection  and Normalised Vegetation Index (NDVI) calculation for vegetation health assessment.\n",
        "\n",
        "## Files in the Repository\n",
        "\n",
        "- **LULC_model_development**: Contains the code for the development of 12 Land Use and Land Cover (LULC) models, along with their performance metrics and visualization maps of the test data.\n",
        "- **Assessment_Glasgow**: Contains the integrated LULC and NDVI assessment for the city of Glasgow.\n",
        "- **Assessment_Newton_Mearns**: Contains the integrated LULC and NDVI assessment for the suburban town of Newton Mearns.\n",
        "\n",
        "**Note**: The code has been pre-ran, so all the necessary outputs have been generated. However, the LULC classification and NDVI visualization maps may not be visible directly in the notebook because these visualizations require the Google Earth Engine (GEE) API. To properly view these maps, it is recommended to run the code again with access to the GEE API.\n",
        "\n",
        "## How to Run the Code\n",
        "\n",
        "To run the code and view the LULC classification and NDVI maps:\n",
        "\n",
        "1. Open the notebook in Google Colab.\n",
        "2. Press the `Run All` button to execute all cells.\n",
        "3. When prompted, grant all necessary permissions, including access to your Google account, to connect to the Google Earth Engine API.\n"
      ],
      "metadata": {
        "id": "5FgRLm2dXOMm"
      }
    }
  ]
}